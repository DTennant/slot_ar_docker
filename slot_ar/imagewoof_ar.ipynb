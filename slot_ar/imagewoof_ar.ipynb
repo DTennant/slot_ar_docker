{
 "cells": [
  {
   "cell_type": "code",
   "execution_count": 1,
   "metadata": {},
   "outputs": [],
   "source": [
    "%load_ext autoreload\n",
    "%autoreload 2"
   ]
  },
  {
   "cell_type": "code",
   "execution_count": 2,
   "metadata": {},
   "outputs": [],
   "source": [
    "from omegaconf import OmegaConf\n",
    "from paintmind.engine.util import instantiate_from_config\n",
    "import torch\n",
    "from sklearn.preprocessing import MinMaxScaler, StandardScaler, RobustScaler\n",
    "\n",
    "cfg = 'configs/dit_enc_rgb_woof_ar_exp_large.yaml'\n",
    "cfg = OmegaConf.load(cfg)\n",
    "cfg['trainer']['params']['model']['params']['ckpt_path'] = \\\n",
    "'output/dit_woof_3460ep_enable_after_3200ep_noln/models/step485000/'\n",
    "# trainer = instantiate_from_config(cfg.trainer)"
   ]
  },
  {
   "cell_type": "code",
   "execution_count": 20,
   "metadata": {},
   "outputs": [
    {
     "data": {
      "text/plain": [
       "<All keys matched successfully>"
      ]
     },
     "execution_count": 20,
     "metadata": {},
     "output_type": "execute_result"
    }
   ],
   "source": [
    "from mar_test import Mar, DiffLoss\n",
    "import torch\n",
    "\n",
    "mar_dict = torch.load('mar_model.pth', map_location='cpu')\n",
    "mar_loss_dict = torch.load('mar_loss_fn.pth', map_location='cpu')\n",
    "\n",
    "model = Mar().cuda()\n",
    "loss_fn = DiffLoss(\n",
    "        target_channels=8, \n",
    "        z_channels=512, \n",
    "        depth=12, \n",
    "        width=1536, \n",
    "        num_sampling_steps=\"100\"\n",
    "    ).cuda()\n",
    "\n",
    "model.load_state_dict(mar_dict)\n",
    "loss_fn.load_state_dict(mar_loss_dict)"
   ]
  },
  {
   "cell_type": "code",
   "execution_count": 21,
   "metadata": {},
   "outputs": [],
   "source": [
    "from sklearn.preprocessing import MinMaxScaler, StandardScaler, RobustScaler"
   ]
  },
  {
   "cell_type": "code",
   "execution_count": 22,
   "metadata": {},
   "outputs": [],
   "source": [
    "scaler = torch.load('mar_scaler.pth')"
   ]
  },
  {
   "cell_type": "code",
   "execution_count": 23,
   "metadata": {},
   "outputs": [
    {
     "data": {
      "text/html": [
       "<style>#sk-container-id-1 {color: black;background-color: white;}#sk-container-id-1 pre{padding: 0;}#sk-container-id-1 div.sk-toggleable {background-color: white;}#sk-container-id-1 label.sk-toggleable__label {cursor: pointer;display: block;width: 100%;margin-bottom: 0;padding: 0.3em;box-sizing: border-box;text-align: center;}#sk-container-id-1 label.sk-toggleable__label-arrow:before {content: \"▸\";float: left;margin-right: 0.25em;color: #696969;}#sk-container-id-1 label.sk-toggleable__label-arrow:hover:before {color: black;}#sk-container-id-1 div.sk-estimator:hover label.sk-toggleable__label-arrow:before {color: black;}#sk-container-id-1 div.sk-toggleable__content {max-height: 0;max-width: 0;overflow: hidden;text-align: left;background-color: #f0f8ff;}#sk-container-id-1 div.sk-toggleable__content pre {margin: 0.2em;color: black;border-radius: 0.25em;background-color: #f0f8ff;}#sk-container-id-1 input.sk-toggleable__control:checked~div.sk-toggleable__content {max-height: 200px;max-width: 100%;overflow: auto;}#sk-container-id-1 input.sk-toggleable__control:checked~label.sk-toggleable__label-arrow:before {content: \"▾\";}#sk-container-id-1 div.sk-estimator input.sk-toggleable__control:checked~label.sk-toggleable__label {background-color: #d4ebff;}#sk-container-id-1 div.sk-label input.sk-toggleable__control:checked~label.sk-toggleable__label {background-color: #d4ebff;}#sk-container-id-1 input.sk-hidden--visually {border: 0;clip: rect(1px 1px 1px 1px);clip: rect(1px, 1px, 1px, 1px);height: 1px;margin: -1px;overflow: hidden;padding: 0;position: absolute;width: 1px;}#sk-container-id-1 div.sk-estimator {font-family: monospace;background-color: #f0f8ff;border: 1px dotted black;border-radius: 0.25em;box-sizing: border-box;margin-bottom: 0.5em;}#sk-container-id-1 div.sk-estimator:hover {background-color: #d4ebff;}#sk-container-id-1 div.sk-parallel-item::after {content: \"\";width: 100%;border-bottom: 1px solid gray;flex-grow: 1;}#sk-container-id-1 div.sk-label:hover label.sk-toggleable__label {background-color: #d4ebff;}#sk-container-id-1 div.sk-serial::before {content: \"\";position: absolute;border-left: 1px solid gray;box-sizing: border-box;top: 0;bottom: 0;left: 50%;z-index: 0;}#sk-container-id-1 div.sk-serial {display: flex;flex-direction: column;align-items: center;background-color: white;padding-right: 0.2em;padding-left: 0.2em;position: relative;}#sk-container-id-1 div.sk-item {position: relative;z-index: 1;}#sk-container-id-1 div.sk-parallel {display: flex;align-items: stretch;justify-content: center;background-color: white;position: relative;}#sk-container-id-1 div.sk-item::before, #sk-container-id-1 div.sk-parallel-item::before {content: \"\";position: absolute;border-left: 1px solid gray;box-sizing: border-box;top: 0;bottom: 0;left: 50%;z-index: -1;}#sk-container-id-1 div.sk-parallel-item {display: flex;flex-direction: column;z-index: 1;position: relative;background-color: white;}#sk-container-id-1 div.sk-parallel-item:first-child::after {align-self: flex-end;width: 50%;}#sk-container-id-1 div.sk-parallel-item:last-child::after {align-self: flex-start;width: 50%;}#sk-container-id-1 div.sk-parallel-item:only-child::after {width: 0;}#sk-container-id-1 div.sk-dashed-wrapped {border: 1px dashed gray;margin: 0 0.4em 0.5em 0.4em;box-sizing: border-box;padding-bottom: 0.4em;background-color: white;}#sk-container-id-1 div.sk-label label {font-family: monospace;font-weight: bold;display: inline-block;line-height: 1.2em;}#sk-container-id-1 div.sk-label-container {text-align: center;}#sk-container-id-1 div.sk-container {/* jupyter's `normalize.less` sets `[hidden] { display: none; }` but bootstrap.min.css set `[hidden] { display: none !important; }` so we also need the `!important` here to be able to override the default hidden behavior on the sphinx rendered scikit-learn.org. See: https://github.com/scikit-learn/scikit-learn/issues/21755 */display: inline-block !important;position: relative;}#sk-container-id-1 div.sk-text-repr-fallback {display: none;}</style><div id=\"sk-container-id-1\" class=\"sk-top-container\"><div class=\"sk-text-repr-fallback\"><pre>MinMaxScaler(feature_range=(-1, 1))</pre><b>In a Jupyter environment, please rerun this cell to show the HTML representation or trust the notebook. <br />On GitHub, the HTML representation is unable to render, please try loading this page with nbviewer.org.</b></div><div class=\"sk-container\" hidden><div class=\"sk-item\"><div class=\"sk-estimator sk-toggleable\"><input class=\"sk-toggleable__control sk-hidden--visually\" id=\"sk-estimator-id-1\" type=\"checkbox\" checked><label for=\"sk-estimator-id-1\" class=\"sk-toggleable__label sk-toggleable__label-arrow\">MinMaxScaler</label><div class=\"sk-toggleable__content\"><pre>MinMaxScaler(feature_range=(-1, 1))</pre></div></div></div></div></div>"
      ],
      "text/plain": [
       "MinMaxScaler(feature_range=(-1, 1))"
      ]
     },
     "execution_count": 23,
     "metadata": {},
     "output_type": "execute_result"
    }
   ],
   "source": [
    "scaler"
   ]
  },
  {
   "cell_type": "code",
   "execution_count": null,
   "metadata": {},
   "outputs": [],
   "source": []
  },
  {
   "cell_type": "code",
   "execution_count": 24,
   "metadata": {},
   "outputs": [],
   "source": [
    "bos_start = model.bos_embed.data.unsqueeze(0)"
   ]
  },
  {
   "cell_type": "code",
   "execution_count": null,
   "metadata": {},
   "outputs": [],
   "source": []
  },
  {
   "cell_type": "code",
   "execution_count": 27,
   "metadata": {},
   "outputs": [
    {
     "data": {
      "text/plain": [
       "torch.Size([1, 512])"
      ]
     },
     "execution_count": 27,
     "metadata": {},
     "output_type": "execute_result"
    }
   ],
   "source": [
    "bos_start.shape"
   ]
  },
  {
   "cell_type": "code",
   "execution_count": null,
   "metadata": {},
   "outputs": [],
   "source": []
  },
  {
   "cell_type": "code",
   "execution_count": 28,
   "metadata": {},
   "outputs": [
    {
     "data": {
      "application/vnd.jupyter.widget-view+json": {
       "model_id": "f44db5f34bad4ad189109c5cd68ca424",
       "version_major": 2,
       "version_minor": 0
      },
      "text/plain": [
       "  0%|          | 0/100 [00:00<?, ?it/s]"
      ]
     },
     "metadata": {},
     "output_type": "display_data"
    }
   ],
   "source": [
    "bos_sampled = loss_fn.sample(bos_start)"
   ]
  },
  {
   "cell_type": "code",
   "execution_count": 3,
   "metadata": {},
   "outputs": [],
   "source": [
    "sample_slots = torch.load('example_slot_cache.pth')"
   ]
  },
  {
   "cell_type": "code",
   "execution_count": 4,
   "metadata": {},
   "outputs": [
    {
     "data": {
      "text/plain": [
       "torch.Size([1024, 64, 8])"
      ]
     },
     "execution_count": 4,
     "metadata": {},
     "output_type": "execute_result"
    }
   ],
   "source": [
    "sample_slots.shape"
   ]
  },
  {
   "cell_type": "code",
   "execution_count": 29,
   "metadata": {},
   "outputs": [
    {
     "data": {
      "text/plain": [
       "tensor([[-26634.8105,  -7406.5044,  14423.2803,  19012.3359,   7433.3149,\n",
       "           6915.6392,  31981.3438, -30996.9375]], device='cuda:0')"
      ]
     },
     "execution_count": 29,
     "metadata": {},
     "output_type": "execute_result"
    }
   ],
   "source": [
    "bos_sampled"
   ]
  },
  {
   "cell_type": "code",
   "execution_count": 10,
   "metadata": {},
   "outputs": [
    {
     "data": {
      "text/plain": [
       "torch.Size([1024, 64, 8])"
      ]
     },
     "execution_count": 10,
     "metadata": {},
     "output_type": "execute_result"
    }
   ],
   "source": [
    "sample_slots.shape"
   ]
  },
  {
   "cell_type": "code",
   "execution_count": 5,
   "metadata": {},
   "outputs": [
    {
     "data": {
      "text/plain": [
       "tensor([[[ 3.8581e+01, -1.2335e+01,  2.6285e+01,  ..., -3.5239e+01,\n",
       "           1.0484e+01,  4.9848e+00],\n",
       "         [-8.4795e+00, -4.7723e+00, -1.6814e+01,  ..., -4.4790e+01,\n",
       "           4.4901e+00, -5.8930e+00],\n",
       "         [ 3.6292e+01,  5.7549e+00, -6.7520e+00,  ..., -3.0047e+01,\n",
       "          -1.8314e+01,  5.9096e+00],\n",
       "         ...,\n",
       "         [ 3.6042e+01,  7.6324e+00,  3.1995e+01,  ..., -1.4812e+01,\n",
       "          -6.6632e+00, -9.7450e+00],\n",
       "         [-7.0019e+00, -4.0497e+01, -9.1044e+00,  ...,  1.2953e+01,\n",
       "           4.3453e+00, -6.5506e+00],\n",
       "         [ 1.3263e+01,  3.9021e+00,  1.8740e+01,  ..., -1.0148e+01,\n",
       "           5.7586e+00, -3.4313e+00]],\n",
       "\n",
       "        [[ 3.2653e+01, -1.4817e+01,  1.8361e+01,  ..., -3.9808e+01,\n",
       "           1.3828e+01,  1.4994e+01],\n",
       "         [-8.0216e+00, -1.1895e+00, -9.9905e+00,  ..., -3.9214e+01,\n",
       "          -8.1665e-01, -9.5430e-01],\n",
       "         [ 3.9346e+01,  1.0957e+01, -1.2851e+01,  ..., -3.6124e+01,\n",
       "          -1.3834e+01,  6.1296e+00],\n",
       "         ...,\n",
       "         [ 3.6746e+01,  1.3398e+01,  2.6770e+01,  ..., -1.7334e+01,\n",
       "          -7.0740e+00, -8.1755e+00],\n",
       "         [-2.5179e-02, -4.4413e+01, -1.2281e+01,  ...,  1.0363e+01,\n",
       "           4.0484e+00,  2.8365e+00],\n",
       "         [ 1.7778e+01,  9.2366e+00,  1.8486e+01,  ..., -1.6470e+01,\n",
       "           9.2939e+00,  3.8801e-01]],\n",
       "\n",
       "        [[ 3.6426e+01, -1.5630e+01,  1.8744e+01,  ..., -3.3998e+01,\n",
       "           5.0514e+00,  3.8609e+00],\n",
       "         [-4.8563e+00, -1.4255e+00, -1.2534e+01,  ..., -3.7294e+01,\n",
       "           5.9368e+00, -7.1477e+00],\n",
       "         [ 4.3197e+01,  8.8588e+00, -3.3658e+00,  ..., -3.0460e+01,\n",
       "          -2.2461e+01,  8.5037e+00],\n",
       "         ...,\n",
       "         [ 2.1349e+01,  1.1165e+01,  3.9985e+01,  ..., -1.1060e+01,\n",
       "          -7.3610e+00, -2.5155e+00],\n",
       "         [-6.5836e+00, -3.8972e+01, -1.4830e+01,  ...,  2.1992e+01,\n",
       "           7.0310e+00, -1.9257e+00],\n",
       "         [ 1.1619e+01,  1.0439e+01,  3.2499e+01,  ..., -1.2230e+01,\n",
       "           3.3233e+00, -5.3253e-01]],\n",
       "\n",
       "        ...,\n",
       "\n",
       "        [[ 2.5294e+01, -1.1217e+01,  2.3122e+01,  ..., -2.8731e+01,\n",
       "          -7.6389e-01,  1.7636e+01],\n",
       "         [-1.0564e+01, -2.9356e+00, -1.6531e+01,  ..., -4.4172e+01,\n",
       "           5.0460e+00, -4.1030e+00],\n",
       "         [ 4.6015e+01,  1.1019e+01, -1.2345e+01,  ..., -3.9592e+01,\n",
       "          -1.9108e+01,  9.2102e+00],\n",
       "         ...,\n",
       "         [ 1.9763e+01,  1.3095e+01,  3.3502e+01,  ..., -1.4162e+01,\n",
       "          -1.1721e+01,  5.8173e+00],\n",
       "         [-6.2217e+00, -3.8825e+01, -1.3337e+01,  ...,  2.3136e+01,\n",
       "           5.5137e+00, -1.2419e-01],\n",
       "         [ 1.2280e+01,  1.1651e+01,  2.9378e+01,  ..., -1.1923e+01,\n",
       "          -5.4635e-01,  4.7721e+00]],\n",
       "\n",
       "        [[ 3.2249e+01, -9.5874e+00,  2.3545e+01,  ..., -3.5578e+01,\n",
       "           4.0064e+00,  1.7210e+01],\n",
       "         [-9.2502e+00, -3.4816e+00, -1.0482e+01,  ..., -3.2580e+01,\n",
       "           3.5902e+00, -1.1243e+01],\n",
       "         [ 2.6217e+01,  1.2932e+01, -3.1123e+00,  ..., -3.0730e+01,\n",
       "          -1.7209e+01,  1.6689e+01],\n",
       "         ...,\n",
       "         [ 2.6192e+01,  1.5938e+01,  3.4785e+01,  ..., -1.4120e+01,\n",
       "          -6.9787e+00, -9.7702e+00],\n",
       "         [ 6.4005e+00, -4.4751e+01, -1.3375e+01,  ...,  1.8201e+01,\n",
       "           1.2053e+01,  6.2390e+00],\n",
       "         [ 7.4674e+00,  1.6593e+01,  2.7057e+01,  ..., -1.4310e+01,\n",
       "           1.7558e+01,  4.3955e+00]],\n",
       "\n",
       "        [[ 3.3306e+01, -7.7424e+00,  2.5013e+01,  ..., -4.6781e+01,\n",
       "           8.9291e+00,  1.1222e+01],\n",
       "         [-6.4360e+00, -6.2385e+00, -5.9846e+00,  ..., -3.7921e+01,\n",
       "           1.3274e+01, -1.2726e+01],\n",
       "         [ 4.6154e+01,  1.0657e+01, -7.2834e+00,  ..., -3.2772e+01,\n",
       "          -1.7087e+01,  6.9422e+00],\n",
       "         ...,\n",
       "         [ 4.0302e+01,  2.1554e+01,  3.3535e+01,  ..., -2.1260e+01,\n",
       "          -1.1650e+01, -8.9292e+00],\n",
       "         [-7.2729e+00, -4.7269e+01, -1.8328e+01,  ...,  1.9855e+01,\n",
       "           3.5101e+00, -1.6256e+00],\n",
       "         [ 1.6034e+01,  1.6755e+01,  2.8600e+01,  ..., -2.2915e+01,\n",
       "           1.3437e+01,  2.4405e+00]]])"
      ]
     },
     "execution_count": 5,
     "metadata": {},
     "output_type": "execute_result"
    }
   ],
   "source": [
    "sample_slots"
   ]
  },
  {
   "cell_type": "code",
   "execution_count": null,
   "metadata": {},
   "outputs": [],
   "source": []
  }
 ],
 "metadata": {
  "kernelspec": {
   "display_name": "Python 3 (ipykernel)",
   "language": "python",
   "name": "python3"
  },
  "language_info": {
   "codemirror_mode": {
    "name": "ipython",
    "version": 3
   },
   "file_extension": ".py",
   "mimetype": "text/x-python",
   "name": "python",
   "nbconvert_exporter": "python",
   "pygments_lexer": "ipython3",
   "version": "3.11.9"
  }
 },
 "nbformat": 4,
 "nbformat_minor": 4
}
