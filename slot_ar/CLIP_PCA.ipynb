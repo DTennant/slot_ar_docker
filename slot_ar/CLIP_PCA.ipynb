{
 "cells": [
  {
   "cell_type": "code",
   "execution_count": 3,
   "metadata": {},
   "outputs": [],
   "source": [
    "from diffusers import UnCLIPImageVariationPipeline\n",
    "import torch, numpy as np\n",
    "from PIL import Image\n",
    "import torchvision\n",
    "from glob import glob\n",
    "from sklearn.decomposition import PCA\n",
    "from diffusers import StableUnCLIPImg2ImgPipeline\n",
    "from diffusers.utils import load_image"
   ]
  },
  {
   "cell_type": "code",
   "execution_count": 4,
   "metadata": {},
   "outputs": [
    {
     "name": "stderr",
     "output_type": "stream",
     "text": [
      "Keyword arguments {'variation': 'fp16'} are not expected by StableUnCLIPImg2ImgPipeline and will be ignored.\n"
     ]
    },
    {
     "data": {
      "application/vnd.jupyter.widget-view+json": {
       "model_id": "e1d53207996b42279bdde8543219a590",
       "version_major": 2,
       "version_minor": 0
      },
      "text/plain": [
       "Loading pipeline components...:   0%|          | 0/9 [00:00<?, ?it/s]"
      ]
     },
     "metadata": {},
     "output_type": "display_data"
    }
   ],
   "source": [
    "pipe = StableUnCLIPImg2ImgPipeline.from_pretrained(\n",
    "    \"stabilityai/stable-diffusion-2-1-unclip\", torch_dtype=torch.float16, variation=\"fp16\"\n",
    ")\n",
    "pipe = pipe.to(\"cuda\")"
   ]
  },
  {
   "cell_type": "code",
   "execution_count": null,
   "metadata": {},
   "outputs": [],
   "source": []
  },
  {
   "cell_type": "code",
   "execution_count": 5,
   "metadata": {},
   "outputs": [],
   "source": [
    "url = \"https://huggingface.co/datasets/hf-internal-testing/diffusers-images/resolve/main/stable_unclip/tarsila_do_amaral.png\"\n",
    "init_image = load_image(url)"
   ]
  },
  {
   "cell_type": "code",
   "execution_count": 6,
   "metadata": {},
   "outputs": [
    {
     "data": {
      "application/vnd.jupyter.widget-view+json": {
       "model_id": "3194cb53b1c0461487951cfaab263cd9",
       "version_major": 2,
       "version_minor": 0
      },
      "text/plain": [
       "  0%|          | 0/21 [00:00<?, ?it/s]"
      ]
     },
     "metadata": {},
     "output_type": "display_data"
    }
   ],
   "source": [
    "images = pipe(init_image).images"
   ]
  },
  {
   "cell_type": "code",
   "execution_count": 13,
   "metadata": {},
   "outputs": [
    {
     "data": {
      "text/plain": [
       "CLIPImageProcessor {\n",
       "  \"crop_size\": {\n",
       "    \"height\": 224,\n",
       "    \"width\": 224\n",
       "  },\n",
       "  \"do_center_crop\": true,\n",
       "  \"do_convert_rgb\": true,\n",
       "  \"do_normalize\": true,\n",
       "  \"do_rescale\": true,\n",
       "  \"do_resize\": true,\n",
       "  \"image_mean\": [\n",
       "    0.48145466,\n",
       "    0.4578275,\n",
       "    0.40821073\n",
       "  ],\n",
       "  \"image_processor_type\": \"CLIPImageProcessor\",\n",
       "  \"image_std\": [\n",
       "    0.26862954,\n",
       "    0.26130258,\n",
       "    0.27577711\n",
       "  ],\n",
       "  \"resample\": 3,\n",
       "  \"rescale_factor\": 0.00392156862745098,\n",
       "  \"size\": {\n",
       "    \"shortest_edge\": 224\n",
       "  }\n",
       "}"
      ]
     },
     "execution_count": 13,
     "metadata": {},
     "output_type": "execute_result"
    }
   ],
   "source": [
    "pipe.feature_extractor"
   ]
  },
  {
   "cell_type": "code",
   "execution_count": 14,
   "metadata": {},
   "outputs": [
    {
     "data": {
      "text/plain": [
       "CLIPVisionModelWithProjection(\n",
       "  (vision_model): CLIPVisionTransformer(\n",
       "    (embeddings): CLIPVisionEmbeddings(\n",
       "      (patch_embedding): Conv2d(3, 1280, kernel_size=(14, 14), stride=(14, 14), bias=False)\n",
       "      (position_embedding): Embedding(257, 1280)\n",
       "    )\n",
       "    (pre_layrnorm): LayerNorm((1280,), eps=1e-05, elementwise_affine=True)\n",
       "    (encoder): CLIPEncoder(\n",
       "      (layers): ModuleList(\n",
       "        (0-31): 32 x CLIPEncoderLayer(\n",
       "          (self_attn): CLIPAttention(\n",
       "            (k_proj): Linear(in_features=1280, out_features=1280, bias=True)\n",
       "            (v_proj): Linear(in_features=1280, out_features=1280, bias=True)\n",
       "            (q_proj): Linear(in_features=1280, out_features=1280, bias=True)\n",
       "            (out_proj): Linear(in_features=1280, out_features=1280, bias=True)\n",
       "          )\n",
       "          (layer_norm1): LayerNorm((1280,), eps=1e-05, elementwise_affine=True)\n",
       "          (mlp): CLIPMLP(\n",
       "            (activation_fn): GELUActivation()\n",
       "            (fc1): Linear(in_features=1280, out_features=5120, bias=True)\n",
       "            (fc2): Linear(in_features=5120, out_features=1280, bias=True)\n",
       "          )\n",
       "          (layer_norm2): LayerNorm((1280,), eps=1e-05, elementwise_affine=True)\n",
       "        )\n",
       "      )\n",
       "    )\n",
       "    (post_layernorm): LayerNorm((1280,), eps=1e-05, elementwise_affine=True)\n",
       "  )\n",
       "  (visual_projection): Linear(in_features=1280, out_features=1024, bias=False)\n",
       ")"
      ]
     },
     "execution_count": 14,
     "metadata": {},
     "output_type": "execute_result"
    }
   ],
   "source": [
    "pipe.image_encoder"
   ]
  },
  {
   "cell_type": "code",
   "execution_count": null,
   "metadata": {},
   "outputs": [],
   "source": []
  },
  {
   "cell_type": "code",
   "execution_count": null,
   "metadata": {},
   "outputs": [],
   "source": []
  },
  {
   "cell_type": "code",
   "execution_count": null,
   "metadata": {},
   "outputs": [],
   "source": []
  },
  {
   "cell_type": "code",
   "execution_count": 2,
   "metadata": {},
   "outputs": [
    {
     "name": "stderr",
     "output_type": "stream",
     "text": [
      "text_encoder/model.safetensors not found\n"
     ]
    },
    {
     "data": {
      "application/vnd.jupyter.widget-view+json": {
       "model_id": "3ae74c6167f24e1b80368088d531d1c2",
       "version_major": 2,
       "version_minor": 0
      },
      "text/plain": [
       "Loading pipeline components...:   0%|          | 0/10 [00:00<?, ?it/s]"
      ]
     },
     "metadata": {},
     "output_type": "display_data"
    },
    {
     "name": "stderr",
     "output_type": "stream",
     "text": [
      "/mnt/ceph_rbd/zbc/miniconda3/envs/llavapp/lib/python3.11/site-packages/torch/_utils.py:831: UserWarning: TypedStorage is deprecated. It will be removed in the future and UntypedStorage will be the only storage class. This should only matter to you if you are using storages directly.  To access UntypedStorage directly, use tensor.untyped_storage() instead of tensor.storage()\n",
      "  return self.fget.__get__(instance, owner)()\n",
      "An error occurred while trying to fetch /mnt/ceph_rbd/zbc/.cache/huggingface/hub/models--kakaobrain--karlo-v1-alpha-image-variations/snapshots/4573828a41f333df688b1111b04add3d9f548331/text_proj: Error no file named diffusion_pytorch_model.safetensors found in directory /mnt/ceph_rbd/zbc/.cache/huggingface/hub/models--kakaobrain--karlo-v1-alpha-image-variations/snapshots/4573828a41f333df688b1111b04add3d9f548331/text_proj.\n",
      "Defaulting to unsafe serialization. Pass `allow_pickle=False` to raise an error instead.\n",
      "An error occurred while trying to fetch /mnt/ceph_rbd/zbc/.cache/huggingface/hub/models--kakaobrain--karlo-v1-alpha-image-variations/snapshots/4573828a41f333df688b1111b04add3d9f548331/super_res_last: Error no file named diffusion_pytorch_model.safetensors found in directory /mnt/ceph_rbd/zbc/.cache/huggingface/hub/models--kakaobrain--karlo-v1-alpha-image-variations/snapshots/4573828a41f333df688b1111b04add3d9f548331/super_res_last.\n",
      "Defaulting to unsafe serialization. Pass `allow_pickle=False` to raise an error instead.\n",
      "An error occurred while trying to fetch /mnt/ceph_rbd/zbc/.cache/huggingface/hub/models--kakaobrain--karlo-v1-alpha-image-variations/snapshots/4573828a41f333df688b1111b04add3d9f548331/decoder: Error no file named diffusion_pytorch_model.safetensors found in directory /mnt/ceph_rbd/zbc/.cache/huggingface/hub/models--kakaobrain--karlo-v1-alpha-image-variations/snapshots/4573828a41f333df688b1111b04add3d9f548331/decoder.\n",
      "Defaulting to unsafe serialization. Pass `allow_pickle=False` to raise an error instead.\n",
      "An error occurred while trying to fetch /mnt/ceph_rbd/zbc/.cache/huggingface/hub/models--kakaobrain--karlo-v1-alpha-image-variations/snapshots/4573828a41f333df688b1111b04add3d9f548331/super_res_first: Error no file named diffusion_pytorch_model.safetensors found in directory /mnt/ceph_rbd/zbc/.cache/huggingface/hub/models--kakaobrain--karlo-v1-alpha-image-variations/snapshots/4573828a41f333df688b1111b04add3d9f548331/super_res_first.\n",
      "Defaulting to unsafe serialization. Pass `allow_pickle=False` to raise an error instead.\n"
     ]
    }
   ],
   "source": [
    "pipe = UnCLIPImageVariationPipeline.from_pretrained(\"kakaobrain/karlo-v1-alpha-image-variations\", torch_dtype=torch.float16)\n",
    "pipe = pipe.to('cuda')"
   ]
  },
  {
   "cell_type": "code",
   "execution_count": 3,
   "metadata": {},
   "outputs": [],
   "source": [
    "img = Image.open('me.jpg')"
   ]
  },
  {
   "cell_type": "code",
   "execution_count": 4,
   "metadata": {},
   "outputs": [
    {
     "data": {
      "application/vnd.jupyter.widget-view+json": {
       "model_id": "22728b6cbffb43da894771359303053e",
       "version_major": 2,
       "version_minor": 0
      },
      "text/plain": [
       "  0%|          | 0/25 [00:00<?, ?it/s]"
      ]
     },
     "metadata": {},
     "output_type": "display_data"
    },
    {
     "data": {
      "application/vnd.jupyter.widget-view+json": {
       "model_id": "8f65b2959fc64b54a3b85b7eef82129a",
       "version_major": 2,
       "version_minor": 0
      },
      "text/plain": [
       "  0%|          | 0/7 [00:00<?, ?it/s]"
      ]
     },
     "metadata": {},
     "output_type": "display_data"
    }
   ],
   "source": [
    "image = pipe(img).images[0]"
   ]
  },
  {
   "cell_type": "code",
   "execution_count": 2,
   "metadata": {},
   "outputs": [],
   "source": [
    "def extract_clip_latent(img):\n",
    "    img_tensor = torch.from_numpy(np.array(img))\n",
    "    f = pipe.feature_extractor(img_tensor.unsqueeze(0))\n",
    "    clip_latent = pipe.image_encoder(torch.from_numpy(f['pixel_values'][0]).unsqueeze(0).cuda())\n",
    "    return clip_latent.image_embeds\n",
    "\n",
    "def batch_extract_clip_latent(imgs):\n",
    "    img_tensors = torch.stack([torch.from_numpy(np.array(img)) for img in imgs])\n",
    "    f = pipe.feature_extractor(img_tensors)\n",
    "    clip_latents = pipe.image_encoder(torch.stack([torch.from_numpy(item) for item in f['pixel_values']]).cuda())\n",
    "    return clip_latents.image_embeds"
   ]
  },
  {
   "cell_type": "code",
   "execution_count": 3,
   "metadata": {},
   "outputs": [],
   "source": [
    "from paintmind.utils.datasets import ImageNet"
   ]
  },
  {
   "cell_type": "code",
   "execution_count": 4,
   "metadata": {},
   "outputs": [],
   "source": [
    "dataset = ImageNet(root='/mnt/ceph_rbd/zbc/data/imagenet/', split='train', img_size=224, scale=0.8)"
   ]
  },
  {
   "cell_type": "code",
   "execution_count": 5,
   "metadata": {},
   "outputs": [],
   "source": [
    "dataloader = torch.utils.data.DataLoader(dataset, batch_size=32, shuffle=False, num_workers=4)"
   ]
  },
  {
   "cell_type": "code",
   "execution_count": 6,
   "metadata": {},
   "outputs": [
    {
     "data": {
      "text/plain": [
       "40037"
      ]
     },
     "execution_count": 6,
     "metadata": {},
     "output_type": "execute_result"
    }
   ],
   "source": [
    "len(dataloader)"
   ]
  },
  {
   "cell_type": "code",
   "execution_count": 7,
   "metadata": {},
   "outputs": [],
   "source": [
    "from transformers import CLIPProcessor, CLIPModel"
   ]
  },
  {
   "cell_type": "code",
   "execution_count": 8,
   "metadata": {},
   "outputs": [
    {
     "name": "stderr",
     "output_type": "stream",
     "text": [
      "/mnt/ceph_rbd/zbc/miniconda3/envs/llavapp/lib/python3.11/site-packages/huggingface_hub/file_download.py:1132: FutureWarning: `resume_download` is deprecated and will be removed in version 1.0.0. Downloads always resume when possible. If you want to force a new download, use `force_download=True`.\n",
      "  warnings.warn(\n"
     ]
    },
    {
     "data": {
      "application/vnd.jupyter.widget-view+json": {
       "model_id": "29a8b066a5a04771aa5c475653759945",
       "version_major": 2,
       "version_minor": 0
      },
      "text/plain": [
       "config.json:   0%|          | 0.00/4.10k [00:00<?, ?B/s]"
      ]
     },
     "metadata": {},
     "output_type": "display_data"
    },
    {
     "data": {
      "application/vnd.jupyter.widget-view+json": {
       "model_id": "cd9aac0c1dc947ddb7ecf9aec6ae9be2",
       "version_major": 2,
       "version_minor": 0
      },
      "text/plain": [
       "pytorch_model.bin:   0%|          | 0.00/599M [00:00<?, ?B/s]"
      ]
     },
     "metadata": {},
     "output_type": "display_data"
    },
    {
     "name": "stderr",
     "output_type": "stream",
     "text": [
      "/mnt/ceph_rbd/zbc/miniconda3/envs/llavapp/lib/python3.11/site-packages/torch/_utils.py:831: UserWarning: TypedStorage is deprecated. It will be removed in the future and UntypedStorage will be the only storage class. This should only matter to you if you are using storages directly.  To access UntypedStorage directly, use tensor.untyped_storage() instead of tensor.storage()\n",
      "  return self.fget.__get__(instance, owner)()\n"
     ]
    }
   ],
   "source": [
    "model = CLIPModel.from_pretrained(\"openai/clip-vit-base-patch16\")"
   ]
  },
  {
   "cell_type": "code",
   "execution_count": 11,
   "metadata": {},
   "outputs": [
    {
     "data": {
      "text/plain": [
       "CLIPModel(\n",
       "  (text_model): CLIPTextTransformer(\n",
       "    (embeddings): CLIPTextEmbeddings(\n",
       "      (token_embedding): Embedding(49408, 512)\n",
       "      (position_embedding): Embedding(77, 512)\n",
       "    )\n",
       "    (encoder): CLIPEncoder(\n",
       "      (layers): ModuleList(\n",
       "        (0-11): 12 x CLIPEncoderLayer(\n",
       "          (self_attn): CLIPAttention(\n",
       "            (k_proj): Linear(in_features=512, out_features=512, bias=True)\n",
       "            (v_proj): Linear(in_features=512, out_features=512, bias=True)\n",
       "            (q_proj): Linear(in_features=512, out_features=512, bias=True)\n",
       "            (out_proj): Linear(in_features=512, out_features=512, bias=True)\n",
       "          )\n",
       "          (layer_norm1): LayerNorm((512,), eps=1e-05, elementwise_affine=True)\n",
       "          (mlp): CLIPMLP(\n",
       "            (activation_fn): QuickGELUActivation()\n",
       "            (fc1): Linear(in_features=512, out_features=2048, bias=True)\n",
       "            (fc2): Linear(in_features=2048, out_features=512, bias=True)\n",
       "          )\n",
       "          (layer_norm2): LayerNorm((512,), eps=1e-05, elementwise_affine=True)\n",
       "        )\n",
       "      )\n",
       "    )\n",
       "    (final_layer_norm): LayerNorm((512,), eps=1e-05, elementwise_affine=True)\n",
       "  )\n",
       "  (vision_model): CLIPVisionTransformer(\n",
       "    (embeddings): CLIPVisionEmbeddings(\n",
       "      (patch_embedding): Conv2d(3, 768, kernel_size=(16, 16), stride=(16, 16), bias=False)\n",
       "      (position_embedding): Embedding(197, 768)\n",
       "    )\n",
       "    (pre_layrnorm): LayerNorm((768,), eps=1e-05, elementwise_affine=True)\n",
       "    (encoder): CLIPEncoder(\n",
       "      (layers): ModuleList(\n",
       "        (0-11): 12 x CLIPEncoderLayer(\n",
       "          (self_attn): CLIPAttention(\n",
       "            (k_proj): Linear(in_features=768, out_features=768, bias=True)\n",
       "            (v_proj): Linear(in_features=768, out_features=768, bias=True)\n",
       "            (q_proj): Linear(in_features=768, out_features=768, bias=True)\n",
       "            (out_proj): Linear(in_features=768, out_features=768, bias=True)\n",
       "          )\n",
       "          (layer_norm1): LayerNorm((768,), eps=1e-05, elementwise_affine=True)\n",
       "          (mlp): CLIPMLP(\n",
       "            (activation_fn): QuickGELUActivation()\n",
       "            (fc1): Linear(in_features=768, out_features=3072, bias=True)\n",
       "            (fc2): Linear(in_features=3072, out_features=768, bias=True)\n",
       "          )\n",
       "          (layer_norm2): LayerNorm((768,), eps=1e-05, elementwise_affine=True)\n",
       "        )\n",
       "      )\n",
       "    )\n",
       "    (post_layernorm): LayerNorm((768,), eps=1e-05, elementwise_affine=True)\n",
       "  )\n",
       "  (visual_projection): Linear(in_features=768, out_features=512, bias=False)\n",
       "  (text_projection): Linear(in_features=512, out_features=512, bias=False)\n",
       ")"
      ]
     },
     "execution_count": 11,
     "metadata": {},
     "output_type": "execute_result"
    }
   ],
   "source": [
    "model.cuda()"
   ]
  },
  {
   "cell_type": "code",
   "execution_count": 13,
   "metadata": {},
   "outputs": [
    {
     "data": {
      "text/plain": [
       "CLIPVisionTransformer(\n",
       "  (embeddings): CLIPVisionEmbeddings(\n",
       "    (patch_embedding): Conv2d(3, 768, kernel_size=(16, 16), stride=(16, 16), bias=False)\n",
       "    (position_embedding): Embedding(197, 768)\n",
       "  )\n",
       "  (pre_layrnorm): LayerNorm((768,), eps=1e-05, elementwise_affine=True)\n",
       "  (encoder): CLIPEncoder(\n",
       "    (layers): ModuleList(\n",
       "      (0-11): 12 x CLIPEncoderLayer(\n",
       "        (self_attn): CLIPAttention(\n",
       "          (k_proj): Linear(in_features=768, out_features=768, bias=True)\n",
       "          (v_proj): Linear(in_features=768, out_features=768, bias=True)\n",
       "          (q_proj): Linear(in_features=768, out_features=768, bias=True)\n",
       "          (out_proj): Linear(in_features=768, out_features=768, bias=True)\n",
       "        )\n",
       "        (layer_norm1): LayerNorm((768,), eps=1e-05, elementwise_affine=True)\n",
       "        (mlp): CLIPMLP(\n",
       "          (activation_fn): QuickGELUActivation()\n",
       "          (fc1): Linear(in_features=768, out_features=3072, bias=True)\n",
       "          (fc2): Linear(in_features=3072, out_features=768, bias=True)\n",
       "        )\n",
       "        (layer_norm2): LayerNorm((768,), eps=1e-05, elementwise_affine=True)\n",
       "      )\n",
       "    )\n",
       "  )\n",
       "  (post_layernorm): LayerNorm((768,), eps=1e-05, elementwise_affine=True)\n",
       ")"
      ]
     },
     "execution_count": 13,
     "metadata": {},
     "output_type": "execute_result"
    }
   ],
   "source": [
    "model.vision_model"
   ]
  },
  {
   "cell_type": "code",
   "execution_count": 18,
   "metadata": {},
   "outputs": [
    {
     "data": {
      "text/plain": [
       "torch.Size([32, 512])"
      ]
     },
     "execution_count": 18,
     "metadata": {},
     "output_type": "execute_result"
    }
   ],
   "source": [
    "model.get_image_features(img.cuda()).shape"
   ]
  },
  {
   "cell_type": "code",
   "execution_count": 19,
   "metadata": {},
   "outputs": [
    {
     "name": "stdout",
     "output_type": "stream",
     "text": [
      "0/40037\n",
      "1000/40037\n",
      "2000/40037\n",
      "3000/40037\n",
      "4000/40037\n",
      "5000/40037\n",
      "6000/40037\n",
      "7000/40037\n",
      "8000/40037\n",
      "9000/40037\n",
      "10000/40037\n",
      "11000/40037\n",
      "12000/40037\n",
      "13000/40037\n",
      "14000/40037\n",
      "15000/40037\n",
      "16000/40037\n",
      "17000/40037\n",
      "18000/40037\n",
      "19000/40037\n",
      "20000/40037\n",
      "21000/40037\n",
      "22000/40037\n",
      "23000/40037\n",
      "24000/40037\n",
      "25000/40037\n",
      "26000/40037\n",
      "27000/40037\n",
      "28000/40037\n",
      "29000/40037\n",
      "30000/40037\n",
      "31000/40037\n",
      "32000/40037\n",
      "33000/40037\n",
      "34000/40037\n",
      "35000/40037\n",
      "36000/40037\n",
      "37000/40037\n",
      "38000/40037\n",
      "39000/40037\n",
      "40000/40037\n"
     ]
    }
   ],
   "source": [
    "embeds = []\n",
    "for i, (img, _) in enumerate(dataloader):\n",
    "    with torch.no_grad():\n",
    "        embeds.append(model.get_image_features(img.cuda()).cpu())\n",
    "    if i % 1000 == 0:\n",
    "        print(f'{i}/{len(dataloader)}')"
   ]
  },
  {
   "cell_type": "code",
   "execution_count": 20,
   "metadata": {},
   "outputs": [],
   "source": [
    "embeds = torch.cat(embeds)"
   ]
  },
  {
   "cell_type": "code",
   "execution_count": 21,
   "metadata": {},
   "outputs": [
    {
     "data": {
      "text/plain": [
       "torch.Size([1281167, 512])"
      ]
     },
     "execution_count": 21,
     "metadata": {},
     "output_type": "execute_result"
    }
   ],
   "source": [
    "embeds.shape"
   ]
  },
  {
   "cell_type": "code",
   "execution_count": 22,
   "metadata": {},
   "outputs": [],
   "source": [
    "torch.save(embeds, 'imagenet_openai_clip_embeds.pt')"
   ]
  },
  {
   "cell_type": "code",
   "execution_count": 23,
   "metadata": {},
   "outputs": [],
   "source": [
    "embeds = torch.load('imagenet_openai_clip_embeds.pt')"
   ]
  },
  {
   "cell_type": "code",
   "execution_count": 24,
   "metadata": {},
   "outputs": [],
   "source": [
    "embeds_mean = embeds.mean(0)\n",
    "embeds_centered = embeds - embeds_mean"
   ]
  },
  {
   "cell_type": "code",
   "execution_count": 25,
   "metadata": {},
   "outputs": [
    {
     "data": {
      "text/html": [
       "<style>#sk-container-id-1 {color: black;background-color: white;}#sk-container-id-1 pre{padding: 0;}#sk-container-id-1 div.sk-toggleable {background-color: white;}#sk-container-id-1 label.sk-toggleable__label {cursor: pointer;display: block;width: 100%;margin-bottom: 0;padding: 0.3em;box-sizing: border-box;text-align: center;}#sk-container-id-1 label.sk-toggleable__label-arrow:before {content: \"▸\";float: left;margin-right: 0.25em;color: #696969;}#sk-container-id-1 label.sk-toggleable__label-arrow:hover:before {color: black;}#sk-container-id-1 div.sk-estimator:hover label.sk-toggleable__label-arrow:before {color: black;}#sk-container-id-1 div.sk-toggleable__content {max-height: 0;max-width: 0;overflow: hidden;text-align: left;background-color: #f0f8ff;}#sk-container-id-1 div.sk-toggleable__content pre {margin: 0.2em;color: black;border-radius: 0.25em;background-color: #f0f8ff;}#sk-container-id-1 input.sk-toggleable__control:checked~div.sk-toggleable__content {max-height: 200px;max-width: 100%;overflow: auto;}#sk-container-id-1 input.sk-toggleable__control:checked~label.sk-toggleable__label-arrow:before {content: \"▾\";}#sk-container-id-1 div.sk-estimator input.sk-toggleable__control:checked~label.sk-toggleable__label {background-color: #d4ebff;}#sk-container-id-1 div.sk-label input.sk-toggleable__control:checked~label.sk-toggleable__label {background-color: #d4ebff;}#sk-container-id-1 input.sk-hidden--visually {border: 0;clip: rect(1px 1px 1px 1px);clip: rect(1px, 1px, 1px, 1px);height: 1px;margin: -1px;overflow: hidden;padding: 0;position: absolute;width: 1px;}#sk-container-id-1 div.sk-estimator {font-family: monospace;background-color: #f0f8ff;border: 1px dotted black;border-radius: 0.25em;box-sizing: border-box;margin-bottom: 0.5em;}#sk-container-id-1 div.sk-estimator:hover {background-color: #d4ebff;}#sk-container-id-1 div.sk-parallel-item::after {content: \"\";width: 100%;border-bottom: 1px solid gray;flex-grow: 1;}#sk-container-id-1 div.sk-label:hover label.sk-toggleable__label {background-color: #d4ebff;}#sk-container-id-1 div.sk-serial::before {content: \"\";position: absolute;border-left: 1px solid gray;box-sizing: border-box;top: 0;bottom: 0;left: 50%;z-index: 0;}#sk-container-id-1 div.sk-serial {display: flex;flex-direction: column;align-items: center;background-color: white;padding-right: 0.2em;padding-left: 0.2em;position: relative;}#sk-container-id-1 div.sk-item {position: relative;z-index: 1;}#sk-container-id-1 div.sk-parallel {display: flex;align-items: stretch;justify-content: center;background-color: white;position: relative;}#sk-container-id-1 div.sk-item::before, #sk-container-id-1 div.sk-parallel-item::before {content: \"\";position: absolute;border-left: 1px solid gray;box-sizing: border-box;top: 0;bottom: 0;left: 50%;z-index: -1;}#sk-container-id-1 div.sk-parallel-item {display: flex;flex-direction: column;z-index: 1;position: relative;background-color: white;}#sk-container-id-1 div.sk-parallel-item:first-child::after {align-self: flex-end;width: 50%;}#sk-container-id-1 div.sk-parallel-item:last-child::after {align-self: flex-start;width: 50%;}#sk-container-id-1 div.sk-parallel-item:only-child::after {width: 0;}#sk-container-id-1 div.sk-dashed-wrapped {border: 1px dashed gray;margin: 0 0.4em 0.5em 0.4em;box-sizing: border-box;padding-bottom: 0.4em;background-color: white;}#sk-container-id-1 div.sk-label label {font-family: monospace;font-weight: bold;display: inline-block;line-height: 1.2em;}#sk-container-id-1 div.sk-label-container {text-align: center;}#sk-container-id-1 div.sk-container {/* jupyter's `normalize.less` sets `[hidden] { display: none; }` but bootstrap.min.css set `[hidden] { display: none !important; }` so we also need the `!important` here to be able to override the default hidden behavior on the sphinx rendered scikit-learn.org. See: https://github.com/scikit-learn/scikit-learn/issues/21755 */display: inline-block !important;position: relative;}#sk-container-id-1 div.sk-text-repr-fallback {display: none;}</style><div id=\"sk-container-id-1\" class=\"sk-top-container\"><div class=\"sk-text-repr-fallback\"><pre>PCA(n_components=512, random_state=42)</pre><b>In a Jupyter environment, please rerun this cell to show the HTML representation or trust the notebook. <br />On GitHub, the HTML representation is unable to render, please try loading this page with nbviewer.org.</b></div><div class=\"sk-container\" hidden><div class=\"sk-item\"><div class=\"sk-estimator sk-toggleable\"><input class=\"sk-toggleable__control sk-hidden--visually\" id=\"sk-estimator-id-1\" type=\"checkbox\" checked><label for=\"sk-estimator-id-1\" class=\"sk-toggleable__label sk-toggleable__label-arrow\">PCA</label><div class=\"sk-toggleable__content\"><pre>PCA(n_components=512, random_state=42)</pre></div></div></div></div></div>"
      ],
      "text/plain": [
       "PCA(n_components=512, random_state=42)"
      ]
     },
     "execution_count": 25,
     "metadata": {},
     "output_type": "execute_result"
    }
   ],
   "source": [
    "pca = PCA(n_components=512, random_state=42)\n",
    "pca.fit(embeds_centered)"
   ]
  },
  {
   "cell_type": "code",
   "execution_count": null,
   "metadata": {},
   "outputs": [],
   "source": []
  },
  {
   "cell_type": "code",
   "execution_count": 26,
   "metadata": {},
   "outputs": [],
   "source": [
    "explained_ratio = pca.explained_variance_ratio_.cumsum()"
   ]
  },
  {
   "cell_type": "code",
   "execution_count": 27,
   "metadata": {},
   "outputs": [
    {
     "data": {
      "text/plain": [
       "array([0.0749195 , 0.13283125, 0.17423531, 0.21180514, 0.23713748,\n",
       "       0.26065785, 0.28192132, 0.30027865, 0.31563557, 0.33009398,\n",
       "       0.34409978, 0.35724855, 0.37008345, 0.38222975, 0.39335678,\n",
       "       0.40385373, 0.41423497, 0.42361406, 0.43269204, 0.44124007,\n",
       "       0.44934215, 0.45693532, 0.46428413, 0.47155696, 0.4783448 ,\n",
       "       0.48496733, 0.49146857, 0.4977054 , 0.50373236, 0.50966233,\n",
       "       0.51546312, 0.52105791, 0.52650932, 0.53185442, 0.53695842,\n",
       "       0.54204602, 0.54702322, 0.55180534, 0.55651276, 0.56109792,\n",
       "       0.5656574 , 0.56999196, 0.57426383, 0.57842318, 0.58253444,\n",
       "       0.58655261, 0.5904981 , 0.59442053, 0.59830435, 0.60208809,\n",
       "       0.60580109, 0.60945316, 0.61305737, 0.61660241, 0.62010285,\n",
       "       0.62353941, 0.62693008, 0.63031638, 0.63359044, 0.63680804,\n",
       "       0.6400046 , 0.64315923, 0.64623577, 0.64929436, 0.65233301,\n",
       "       0.65524808, 0.65813779, 0.66101417, 0.66387649, 0.66667428,\n",
       "       0.66943834, 0.67218186, 0.67489292, 0.67758132, 0.6802259 ,\n",
       "       0.68284408, 0.68544042, 0.68800615, 0.69054709, 0.69306954,\n",
       "       0.69552735, 0.69795475, 0.70036817, 0.70273271, 0.70509366,\n",
       "       0.70741875, 0.70971232, 0.71196813, 0.71419803, 0.71641231,\n",
       "       0.71860657, 0.72078845, 0.72292885, 0.72505495, 0.72714991,\n",
       "       0.72923686, 0.73130436, 0.73336316, 0.73539175, 0.73739235,\n",
       "       0.7393797 , 0.74135119, 0.74331617, 0.74526434, 0.7472108 ,\n",
       "       0.74913705, 0.75103992, 0.75291897, 0.75479066, 0.75664168,\n",
       "       0.75847791, 0.76028453, 0.7620842 , 0.76385883, 0.76561183,\n",
       "       0.76735063, 0.7690853 , 0.77081735, 0.77252201, 0.77420171,\n",
       "       0.77587308, 0.77753651, 0.77919151, 0.78083992, 0.78248015,\n",
       "       0.78410223, 0.78570346, 0.78728285, 0.78885984, 0.79042601,\n",
       "       0.79197783, 0.79351936, 0.79506012, 0.79659107, 0.79810694,\n",
       "       0.79960928, 0.80109827, 0.80257226, 0.80403799, 0.80549702,\n",
       "       0.80693968, 0.80837546, 0.80980363, 0.81120341, 0.81259726,\n",
       "       0.81397754, 0.81535125, 0.81671484, 0.81806986, 0.81941882,\n",
       "       0.8207583 , 0.82208986, 0.82341901, 0.82473364, 0.82604479,\n",
       "       0.82733458, 0.82861519, 0.82989021, 0.83116207, 0.83242278,\n",
       "       0.83367353, 0.83490919, 0.83614261, 0.8373627 , 0.83857892,\n",
       "       0.83978403, 0.8409811 , 0.84217001, 0.84334969, 0.84452108,\n",
       "       0.84568482, 0.84684153, 0.8479934 , 0.84913746, 0.85027323,\n",
       "       0.8514037 , 0.85252818, 0.85364734, 0.85475588, 0.85586319,\n",
       "       0.85695662, 0.85803782, 0.85911782, 0.86018505, 0.86124674,\n",
       "       0.86230441, 0.86335835, 0.86440728, 0.86544685, 0.86648417,\n",
       "       0.86751702, 0.86853679, 0.86954784, 0.87055164, 0.87155185,\n",
       "       0.87254698, 0.87354   , 0.87452519, 0.87550647, 0.87646755,\n",
       "       0.87742472, 0.87837944, 0.87932738, 0.88027068, 0.88121231,\n",
       "       0.88214544, 0.88307392, 0.88399519, 0.8849124 , 0.88581972,\n",
       "       0.88672026, 0.88761694, 0.88850825, 0.88939771, 0.89028546,\n",
       "       0.89116231, 0.89203441, 0.89290347, 0.89376608, 0.89462153,\n",
       "       0.8954736 , 0.89631865, 0.89716302, 0.89800351, 0.89883466,\n",
       "       0.89965686, 0.90047519, 0.90128421, 0.90208983, 0.90289278,\n",
       "       0.90369379, 0.90448867, 0.90527925, 0.90606668, 0.90685074,\n",
       "       0.90762968, 0.90839949, 0.90915925, 0.90991585, 0.91066675,\n",
       "       0.91141399, 0.91215981, 0.91289914, 0.91363246, 0.9143639 ,\n",
       "       0.91508807, 0.91581168, 0.91653292, 0.91724756, 0.91795561,\n",
       "       0.91866061, 0.91936036, 0.92005634, 0.92074776, 0.92143738,\n",
       "       0.92212047, 0.92280117, 0.92347641, 0.92414705, 0.92481334,\n",
       "       0.92547657, 0.92613449, 0.92678749, 0.92743731, 0.92808638,\n",
       "       0.92872706, 0.92936343, 0.92999901, 0.93063034, 0.93126068,\n",
       "       0.93188681, 0.9325075 , 0.93312473, 0.93373506, 0.93434174,\n",
       "       0.93494573, 0.93554511, 0.93614197, 0.93673382, 0.93732012,\n",
       "       0.93790477, 0.9384839 , 0.93906086, 0.93963309, 0.94020271,\n",
       "       0.94077113, 0.94133206, 0.94189096, 0.94244683, 0.94299425,\n",
       "       0.9435401 , 0.94408044, 0.94461994, 0.94515374, 0.94568691,\n",
       "       0.94621683, 0.94674079, 0.94726269, 0.94778063, 0.94829546,\n",
       "       0.9488045 , 0.94930896, 0.94981247, 0.95031458, 0.95080953,\n",
       "       0.95130191, 0.95179096, 0.95227613, 0.95275813, 0.95323641,\n",
       "       0.95371231, 0.95418728, 0.9546556 , 0.95512204, 0.95558432,\n",
       "       0.95604101, 0.95649345, 0.95694293, 0.95739079, 0.95783742,\n",
       "       0.95828129, 0.95871999, 0.9591548 , 0.95958577, 0.96001544,\n",
       "       0.96044142, 0.96086362, 0.96128506, 0.96170223, 0.96211611,\n",
       "       0.96252538, 0.96293054, 0.96333168, 0.96372895, 0.96412584,\n",
       "       0.96451922, 0.96490993, 0.96529724, 0.96568169, 0.96606352,\n",
       "       0.96644169, 0.96681584, 0.96718892, 0.96755755, 0.96792533,\n",
       "       0.96829036, 0.96865392, 0.96901425, 0.96937232, 0.96972677,\n",
       "       0.97007507, 0.97042164, 0.97076521, 0.9711065 , 0.97144528,\n",
       "       0.97178339, 0.97211714, 0.97244935, 0.97277888, 0.97310344,\n",
       "       0.97342704, 0.97374853, 0.97406565, 0.97437959, 0.97469239,\n",
       "       0.97500194, 0.9753096 , 0.97561316, 0.97591502, 0.97621664,\n",
       "       0.97651407, 0.97680992, 0.97710308, 0.97738974, 0.97767377,\n",
       "       0.97795685, 0.97823855, 0.97851965, 0.97879901, 0.97907709,\n",
       "       0.97935228, 0.97962427, 0.97989231, 0.98015965, 0.98042413,\n",
       "       0.9806885 , 0.98094987, 0.98120883, 0.981466  , 0.98171965,\n",
       "       0.98196966, 0.98221741, 0.98246333, 0.98270859, 0.98295051,\n",
       "       0.98319147, 0.98343131, 0.98366886, 0.98390436, 0.98413668,\n",
       "       0.98436675, 0.98459635, 0.98482478, 0.98505058, 0.98527454,\n",
       "       0.98549664, 0.98571746, 0.98593588, 0.9861541 , 0.98637156,\n",
       "       0.98658725, 0.98680026, 0.98701153, 0.98722178, 0.98743041,\n",
       "       0.98763805, 0.98784369, 0.98804865, 0.98825028, 0.98845049,\n",
       "       0.98864906, 0.98884706, 0.98904328, 0.98923825, 0.98943177,\n",
       "       0.98962322, 0.98981444, 0.99000407, 0.99019229, 0.99037911,\n",
       "       0.99056468, 0.99074793, 0.9909307 , 0.99111129, 0.99129143,\n",
       "       0.99147013, 0.99164696, 0.99182288, 0.99199735, 0.99217147,\n",
       "       0.99234388, 0.99251575, 0.99268524, 0.99285426, 0.99302298,\n",
       "       0.99319037, 0.99335668, 0.99352242, 0.9936868 , 0.99385029,\n",
       "       0.99401257, 0.99417193, 0.9943309 , 0.99448943, 0.9946465 ,\n",
       "       0.9948008 , 0.99495469, 0.99510696, 0.995259  , 0.99540923,\n",
       "       0.99555786, 0.99570611, 0.99585338, 0.99599914, 0.99614402,\n",
       "       0.99628848, 0.9964324 , 0.99657441, 0.99671568, 0.99685632,\n",
       "       0.99699624, 0.9971338 , 0.99726967, 0.99740381, 0.99753772,\n",
       "       0.99767062, 0.99780242, 0.99793397, 0.99806369, 0.99819313,\n",
       "       0.99832006, 0.99844475, 0.9985674 , 0.99868882, 0.99880644,\n",
       "       0.99892238, 0.99903685, 0.9991351 , 0.99923043, 0.99931952,\n",
       "       0.99940207, 0.99948353, 0.99956234, 0.99963066, 0.99969801,\n",
       "       0.99975737, 0.99980728, 0.99985303, 0.99988437, 0.99991148,\n",
       "       0.99993449, 0.99994972, 0.99996176, 0.9999711 , 0.99997975,\n",
       "       0.99998582, 0.99998954, 0.99999313, 0.9999956 , 0.99999772,\n",
       "       0.99999922, 1.        ])"
      ]
     },
     "execution_count": 27,
     "metadata": {},
     "output_type": "execute_result"
    }
   ],
   "source": [
    "explained_ratio"
   ]
  },
  {
   "cell_type": "code",
   "execution_count": 28,
   "metadata": {},
   "outputs": [],
   "source": [
    "torch.save(pca, 'imagenet_openai_clip_pca.pt')"
   ]
  },
  {
   "cell_type": "code",
   "execution_count": null,
   "metadata": {},
   "outputs": [],
   "source": []
  },
  {
   "cell_type": "code",
   "execution_count": 49,
   "metadata": {},
   "outputs": [
    {
     "data": {
      "text/plain": [
       "0.015255924587645322"
      ]
     },
     "execution_count": 49,
     "metadata": {},
     "output_type": "execute_result"
    }
   ],
   "source": [
    "explained_ratio[-1] / 64"
   ]
  },
  {
   "cell_type": "code",
   "execution_count": 9,
   "metadata": {},
   "outputs": [],
   "source": [
    "@torch.no_grad()\n",
    "def project_first_n_components(img, n=64):\n",
    "    clip_latent = extract_clip_latent(img)\n",
    "    clip_latent_centered = clip_latent - embeds_mean.cuda()\n",
    "    clip_latent_projected = pca.transform(clip_latent_centered.cpu().numpy())\n",
    "    clip_latent_projected[:,n:] = 0\n",
    "    # return clip_latent_projected\n",
    "    clip_latent_projected = torch.from_numpy(pca.inverse_transform(clip_latent_projected) + embeds_mean.cpu().numpy()).cuda()\n",
    "    return pipe(image_embeddings=clip_latent_projected.half()).images[0]\n",
    "\n",
    "@torch.no_grad()\n",
    "def project_first_n_components_embeds(embeds, n=64):\n",
    "    clip_latent_centered = embeds - embeds_mean\n",
    "    clip_latent_projected = pca.transform(clip_latent_centered.cpu().numpy())\n",
    "    clip_latent_projected[:,n:] = 0\n",
    "    # return clip_latent_projected\n",
    "    clip_latent_projected = torch.from_numpy(pca.inverse_transform(clip_latent_projected) + embeds_mean.cpu().numpy())\n",
    "    return clip_latent_projected\n",
    "\n",
    "@torch.no_grad()\n",
    "def project_embeds(embeds, ):\n",
    "    clip_latent_centered = embeds - embeds_mean\n",
    "    clip_latent_projected = pca.transform(clip_latent_centered.cpu().numpy())\n",
    "    return clip_latent_projected"
   ]
  },
  {
   "cell_type": "code",
   "execution_count": 16,
   "metadata": {},
   "outputs": [],
   "source": [
    "embeds_projected = project_embeds(embeds)"
   ]
  },
  {
   "cell_type": "code",
   "execution_count": 17,
   "metadata": {},
   "outputs": [],
   "source": [
    "from tqdm.notebook import trange\n",
    "import gc"
   ]
  },
  {
   "cell_type": "code",
   "execution_count": 19,
   "metadata": {},
   "outputs": [
    {
     "data": {
      "application/vnd.jupyter.widget-view+json": {
       "model_id": "5027b770f58d47bbb8660ce7d2009761",
       "version_major": 2,
       "version_minor": 0
      },
      "text/plain": [
       "  0%|          | 0/64 [00:00<?, ?it/s]"
      ]
     },
     "metadata": {},
     "output_type": "display_data"
    }
   ],
   "source": [
    "embeds_projected_dict = {}\n",
    "for i in trange(8, 520, 8):\n",
    "    new_embeds_projected = embeds_projected.copy()\n",
    "    new_embeds_projected[:, i:] = 0\n",
    "    new_embeds_back = torch.from_numpy(pca.inverse_transform(new_embeds_projected) + embeds_mean.cpu().numpy())\n",
    "    embeds_projected_dict[i] = new_embeds_back\n",
    "    if i % 64 == 0:\n",
    "        torch.save(embeds_projected_dict, f'imagenet_clip_embeds_projected_{i}.pt')\n",
    "        embeds_projected_dict = {}\n",
    "        gc.collect()\n",
    "        torch.cuda.empty_cache()"
   ]
  },
  {
   "cell_type": "code",
   "execution_count": null,
   "metadata": {},
   "outputs": [],
   "source": []
  },
  {
   "cell_type": "code",
   "execution_count": 85,
   "metadata": {},
   "outputs": [],
   "source": [
    "me = Image.open('me.jpg').resize((512, 512))"
   ]
  },
  {
   "cell_type": "code",
   "execution_count": 99,
   "metadata": {},
   "outputs": [
    {
     "data": {
      "application/vnd.jupyter.widget-view+json": {
       "model_id": "853394747a774461b0d210123122cd3c",
       "version_major": 2,
       "version_minor": 0
      },
      "text/plain": [
       "  0%|          | 0/25 [00:00<?, ?it/s]"
      ]
     },
     "metadata": {},
     "output_type": "display_data"
    },
    {
     "data": {
      "application/vnd.jupyter.widget-view+json": {
       "model_id": "547d285bf898498691d57a47d55d27bf",
       "version_major": 2,
       "version_minor": 0
      },
      "text/plain": [
       "  0%|          | 0/7 [00:00<?, ?it/s]"
      ]
     },
     "metadata": {},
     "output_type": "display_data"
    }
   ],
   "source": [
    "projected_img = project_first_n_components(me, 512)"
   ]
  },
  {
   "cell_type": "code",
   "execution_count": null,
   "metadata": {},
   "outputs": [],
   "source": []
  },
  {
   "cell_type": "code",
   "execution_count": 106,
   "metadata": {},
   "outputs": [],
   "source": [
    "from tqdm.notebook import trange"
   ]
  },
  {
   "cell_type": "code",
   "execution_count": 107,
   "metadata": {},
   "outputs": [
    {
     "data": {
      "application/vnd.jupyter.widget-view+json": {
       "model_id": "6c851d735d3a482a9a936770efb24638",
       "version_major": 2,
       "version_minor": 0
      },
      "text/plain": [
       "  0%|          | 0/63 [00:00<?, ?it/s]"
      ]
     },
     "metadata": {},
     "output_type": "display_data"
    },
    {
     "ename": "",
     "evalue": "",
     "output_type": "error",
     "traceback": [
      "\u001b[1;31m在当前单元格或上一个单元格中执行代码时 Kernel 崩溃。\n",
      "\u001b[1;31m请查看单元格中的代码，以确定故障的可能原因。\n",
      "\u001b[1;31m单击<a href='https://aka.ms/vscodeJupyterKernelCrash'>此处</a>了解详细信息。\n",
      "\u001b[1;31m有关更多详细信息，请查看 Jupyter <a href='command:jupyter.viewOutput'>log</a>。"
     ]
    }
   ],
   "source": [
    "embeds_projected = {}\n",
    "for i in trange(8, 512, 8):\n",
    "    embeds_projected[i] = project_first_n_components_embeds(embeds, i)"
   ]
  },
  {
   "cell_type": "code",
   "execution_count": null,
   "metadata": {},
   "outputs": [],
   "source": [
    "len(embeds_projected.keys())"
   ]
  },
  {
   "cell_type": "code",
   "execution_count": null,
   "metadata": {},
   "outputs": [],
   "source": []
  },
  {
   "cell_type": "code",
   "execution_count": 43,
   "metadata": {},
   "outputs": [],
   "source": [
    "latent = extract_clip_latent(me)"
   ]
  },
  {
   "cell_type": "code",
   "execution_count": 105,
   "metadata": {},
   "outputs": [],
   "source": [
    "back_latent = torch.from_numpy(pca.inverse_transform(pca.transform(latent.cpu().detach().numpy()))).cuda()"
   ]
  },
  {
   "cell_type": "code",
   "execution_count": 106,
   "metadata": {},
   "outputs": [
    {
     "data": {
      "application/vnd.jupyter.widget-view+json": {
       "model_id": "a965820a52024324873b537ffe1cf0a9",
       "version_major": 2,
       "version_minor": 0
      },
      "text/plain": [
       "  0%|          | 0/25 [00:00<?, ?it/s]"
      ]
     },
     "metadata": {},
     "output_type": "display_data"
    },
    {
     "data": {
      "application/vnd.jupyter.widget-view+json": {
       "model_id": "d4ef7521fa49419683c1572284e198de",
       "version_major": 2,
       "version_minor": 0
      },
      "text/plain": [
       "  0%|          | 0/7 [00:00<?, ?it/s]"
      ]
     },
     "metadata": {},
     "output_type": "display_data"
    }
   ],
   "source": [
    "out = pipe(image_embeddings=back_latent.half()).images[0]"
   ]
  },
  {
   "cell_type": "code",
   "execution_count": 107,
   "metadata": {},
   "outputs": [
    {
     "data": {
      "image/jpeg": "[encoded data removed]",
      "image/png": "[encoded data removed]",
      "text/plain": [
       "<PIL.Image.Image image mode=RGB size=256x256>"
      ]
     },
     "execution_count": 107,
     "metadata": {},
     "output_type": "execute_result"
    }
   ],
   "source": [
    "out"
   ]
  },
  {
   "cell_type": "code",
   "execution_count": null,
   "metadata": {},
   "outputs": [],
   "source": []
  },
  {
   "cell_type": "code",
   "execution_count": null,
   "metadata": {},
   "outputs": [],
   "source": []
  }
 ],
 "metadata": {
  "kernelspec": {
   "display_name": "llavapp",
   "language": "python",
   "name": "python3"
  },
  "language_info": {
   "codemirror_mode": {
    "name": "ipython",
    "version": 3
   },
   "file_extension": ".py",
   "mimetype": "text/x-python",
   "name": "python",
   "nbconvert_exporter": "python",
   "pygments_lexer": "ipython3",
   "version": "3.11.9"
  }
 },
 "nbformat": 4,
 "nbformat_minor": 2
}
